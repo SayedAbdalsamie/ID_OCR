{
 "cells": [
  {
   "cell_type": "markdown",
   "id": "ff322b97",
   "metadata": {},
   "source": [
    "# Arabic ID Reader — OCR Exploration\n",
    "\n",
    "This notebook is a placeholder for experimenting with detection and OCR models (Hugging Face, PaddleOCR).\n"
   ]
  }
 ],
 "metadata": {
  "language_info": {
   "name": "python"
  }
 },
 "nbformat": 4,
 "nbformat_minor": 5
}
